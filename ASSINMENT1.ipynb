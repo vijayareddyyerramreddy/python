{
 "cells": [
  {
   "cell_type": "code",
   "execution_count": 5,
   "metadata": {},
   "outputs": [
    {
     "name": "stdout",
     "output_type": "stream",
     "text": [
      "aMNBc\n"
     ]
    }
   ],
   "source": [
    "#input:AmnbC\n",
    "#output:aMNBc\n",
    "str=\"AmnbC\"\n",
    "str1=\"\"\n",
    "for i in str:\n",
    "    if i.isupper()==True:\n",
    "        str1=str1+i.lower()  \n",
    "    else:\n",
    "        str1=str1+i.upper()\n",
    "print(str1)\n",
    "    "
   ]
  },
  {
   "cell_type": "code",
   "execution_count": 6,
   "metadata": {},
   "outputs": [
    {
     "name": "stdout",
     "output_type": "stream",
     "text": [
      "['11', '22', '3', '4', '5', '6', '7', '8', '9']\n",
      "11 22 3 4 5 6 7 8 9\n"
     ]
    }
   ],
   "source": [
    "#2.input :11 11 22 3 22 3 4 5 6 7 8 9\n",
    "#output: 11 22 3 4 5 6 7 8 9\n",
    "s=\"11 11 22 3 22 3 4 5 6 7 8 9\"\n",
    "s1=s.split()\n",
    "l=[]\n",
    "for i in s1:\n",
    "    if i not in l:\n",
    "        l.append(i)\n",
    "print(l)\n",
    "x=' '.join(l)\n",
    "print(x)\n"
   ]
  },
  {
   "cell_type": "code",
   "execution_count": null,
   "metadata": {},
   "outputs": [],
   "source": []
  }
 ],
 "metadata": {
  "kernelspec": {
   "display_name": "Python 3",
   "language": "python",
   "name": "python3"
  },
  "language_info": {
   "codemirror_mode": {
    "name": "ipython",
    "version": 3
   },
   "file_extension": ".py",
   "mimetype": "text/x-python",
   "name": "python",
   "nbconvert_exporter": "python",
   "pygments_lexer": "ipython3",
   "version": "3.7.4"
  }
 },
 "nbformat": 4,
 "nbformat_minor": 2
}
