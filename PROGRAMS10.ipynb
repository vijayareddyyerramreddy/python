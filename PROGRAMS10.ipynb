{
 "cells": [
  {
   "cell_type": "code",
   "execution_count": 4,
   "metadata": {},
   "outputs": [
    {
     "name": "stdout",
     "output_type": "stream",
     "text": [
      "entr the value15920\n",
      "4\n"
     ]
    }
   ],
   "source": [
    "num=int(input(\"entr the value\"))\n",
    "x=[0,6,9]\n",
    "y=[4]\n",
    "z=[1,2,3,4,5,7]\n",
    "l1=[8]\n",
    "l=[]\n",
    "sum=0\n",
    "while num>0:\n",
    "    d=num%10\n",
    "    l.append(d)\n",
    "    num=num//10\n",
    "for i in l:\n",
    "    if i in x:\n",
    "        sum=sum+2\n",
    "    elif i in y:\n",
    "        sum=sum+3\n",
    "    elif i in z:\n",
    "        sum=sum+0\n",
    "    elif i in l1:\n",
    "        sum=sum+4\n",
    "    \n",
    "print(sum)    "
   ]
  },
  {
   "cell_type": "markdown",
   "metadata": {},
   "source": [
    "## optimized code"
   ]
  },
  {
   "cell_type": "code",
   "execution_count": 7,
   "metadata": {},
   "outputs": [
    {
     "name": "stdout",
     "output_type": "stream",
     "text": [
      "888\n",
      "12\n"
     ]
    }
   ],
   "source": [
    "def sumofCirclesTriangles(n):\n",
    "    s=0\n",
    "    while n>0:\n",
    "        r=n%10\n",
    "        if r==0 or r==6 or r==9:\n",
    "            s=s+2\n",
    "        elif r==8:\n",
    "            s=s+4\n",
    "        elif r==4:\n",
    "            s=s+3\n",
    "        n=n//10\n",
    "    return s   \n",
    "x=int(input(\"\"))\n",
    "y=sumofCirclesTriangles(x)\n",
    "print(y)"
   ]
  },
  {
   "cell_type": "markdown",
   "metadata": {},
   "source": [
    "# test cases\n",
    "input      output\n",
    "98276      <2,9>\n",
    "13682      <1,8>\n",
    "145        <1,5>"
   ]
  },
  {
   "cell_type": "code",
   "execution_count": null,
   "metadata": {},
   "outputs": [],
   "source": [
    "def LeastHeighestValues(x):\n",
    "    l=[]\n",
    "    while x>0:\n",
    "        r=x%10\n",
    "        l.append(r)\n",
    "        x=x//10\n",
    "    l.sort()\n",
    "    print('<{},{}>'.format(l[0],l[-1]))  \n",
    "x=int(input(\"\"))\n",
    "LeastHeighestValues(x)"
   ]
  },
  {
   "cell_type": "markdown",
   "metadata": {},
   "source": [
    "## Test Cases\n",
    "input    output\n",
    "122       17\n",
    "21        9"
   ]
  },
  {
   "cell_type": "code",
   "execution_count": 14,
   "metadata": {},
   "outputs": [
    {
     "name": "stdout",
     "output_type": "stream",
     "text": [
      "21\n",
      "9\n"
     ]
    }
   ],
   "source": [
    "def SumOfCubesn(x):\n",
    "    s=0\n",
    "    0while x>0:\n",
    "        r=x%10\n",
    "        s=s+r**3\n",
    "        x=x//1\n",
    "    print(s)     \n",
    "x=int(input(\"\"))\n",
    "SumOfCubesn(x)"
   ]
  },
  {
   "cell_type": "markdown",
   "metadata": {},
   "source": [
    "## Test Cases\n",
    "INPUT:\n",
    "ABCD AABB ABC AAABC\n",
    "OUTPUT:\n",
    "!@@!!!@@@@\n",
    "!@!!@@\n",
    "!@@!!!\n",
    "!@!@@!!!"
   ]
  },
  {
   "cell_type": "code",
   "execution_count": 7,
   "metadata": {},
   "outputs": [
    {
     "name": "stdout",
     "output_type": "stream",
     "text": [
      "AAB \n",
      "!@@@\n",
      "\n",
      "\n"
     ]
    }
   ],
   "source": [
    "s=input(\"\")\n",
    "l=[]\n",
    "l=list(s)\n",
    "s=\"\"\n",
    "a=0\n",
    "prv=0\n",
    "for i in l:\n",
    "    if i.isspace()!=True: \n",
    "        a=ord(i)-ord('A')+1\n",
    "        if a%2!=0 and prv!=a:\n",
    "            s=s+(\"!\"*a)\n",
    "            prv=a\n",
    "            \n",
    "        else:\n",
    "            s=s+(\"@\"*a)\n",
    "            \n",
    "    else:\n",
    "        print(s)\n",
    "        print('\\n')\n",
    "    "
   ]
  }
 ],
 "metadata": {
  "kernelspec": {
   "display_name": "Python 3",
   "language": "python",
   "name": "python3"
  },
  "language_info": {
   "codemirror_mode": {
    "name": "ipython",
    "version": 3
   },
   "file_extension": ".py",
   "mimetype": "text/x-python",
   "name": "python",
   "nbconvert_exporter": "python",
   "pygments_lexer": "ipython3",
   "version": "3.7.4"
  }
 },
 "nbformat": 4,
 "nbformat_minor": 2
}
