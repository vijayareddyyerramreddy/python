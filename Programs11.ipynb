{
 "cells": [
  {
   "cell_type": "markdown",
   "metadata": {},
   "source": [
    "### 1. Function to create a file and write to the file"
   ]
  },
  {
   "cell_type": "code",
   "execution_count": 1,
   "metadata": {},
   "outputs": [
    {
     "name": "stdout",
     "output_type": "stream",
     "text": [
      "enter the file name:newfile.txt\n",
      "enter the mode:w\n"
     ]
    }
   ],
   "source": [
    "def creation(fname,mode): \n",
    "    with open(fname,mode) as f1:\n",
    "        f1.write(\"HII GOOD MORNING\")\n",
    "fname=input(\"enter the file name:\")\n",
    "mode=input(\"enter the mode:\")\n",
    "creation(fname,mode)"
   ]
  },
  {
   "cell_type": "markdown",
   "metadata": {},
   "source": [
    "### 2. Function to read of the file"
   ]
  },
  {
   "cell_type": "code",
   "execution_count": 4,
   "metadata": {},
   "outputs": [
    {
     "name": "stdout",
     "output_type": "stream",
     "text": [
      "enter the file name:newfile.txt\n",
      "['HII GOOD MORNING']\n"
     ]
    }
   ],
   "source": [
    "def read(fname): \n",
    "    with open(fname,\"r\") as f1:\n",
    "        print(f1.readlines())\n",
    "fname=input(\"enter the file name:\")\n",
    "read(fname)"
   ]
  },
  {
   "cell_type": "markdown",
   "metadata": {},
   "source": [
    "### 3. Word Count Program-Count the number of words present in the text file"
   ]
  },
  {
   "cell_type": "code",
   "execution_count": 6,
   "metadata": {},
   "outputs": [
    {
     "name": "stdout",
     "output_type": "stream",
     "text": [
      "enter the file name:newfile.txt\n",
      "Total number of words  present in the text file is: 3\n"
     ]
    }
   ],
   "source": [
    "def WordCount(x):\n",
    "    count=0\n",
    "    with open(x,\"r\") as f:\n",
    "        a=f.read()\n",
    "        y=a.split()\n",
    "        for i in y:\n",
    "            count+=1\n",
    "        print(\"Total number of words  present in the text file is:\",count)    \n",
    "            \n",
    "fname=input(\"enter the file name:\")\n",
    "WordCount(fname)"
   ]
  },
  {
   "cell_type": "markdown",
   "metadata": {},
   "source": [
    "### 4. Count the number of characters from the given file"
   ]
  },
  {
   "cell_type": "code",
   "execution_count": 9,
   "metadata": {},
   "outputs": [
    {
     "name": "stdout",
     "output_type": "stream",
     "text": [
      "enter the file name:newfile.txt\n",
      "total number of characters 16\n"
     ]
    }
   ],
   "source": [
    "def findchar(fname):\n",
    "    count=0\n",
    "    with open(fname,\"r\") as f:\n",
    "        x=f.read()\n",
    "        for i in x:\n",
    "            count+=1\n",
    "        print(\"total number of characters\",count)   \n",
    "fname=input(\"enter the file name:\") \n",
    "findchar(fname)"
   ]
  },
  {
   "cell_type": "markdown",
   "metadata": {},
   "source": [
    "### 5. Function to find the no of lines in the input file\n",
    "#### Input -- filename(file2.txt)\n",
    "#### Output -- No of Lines(12)"
   ]
  },
  {
   "cell_type": "code",
   "execution_count": 10,
   "metadata": {},
   "outputs": [
    {
     "name": "stdout",
     "output_type": "stream",
     "text": [
      "enter the file name:newfile.txt\n",
      "total number of characters 1\n"
     ]
    }
   ],
   "source": [
    "def findchar(fname):\n",
    "    count=0\n",
    "    with open(fname,\"r\") as f:\n",
    "        x=f.readlines()\n",
    "        for i in x:\n",
    "            count+=1\n",
    "        print(\"total number of characters\",count)   \n",
    "fname=input(\"enter the file name:\") \n",
    "findchar(fname)"
   ]
  },
  {
   "cell_type": "markdown",
   "metadata": {},
   "source": [
    "### 6. Function to print the Upper and Lower characters from the given file.\n"
   ]
  },
  {
   "cell_type": "code",
   "execution_count": 1,
   "metadata": {},
   "outputs": [
    {
     "name": "stdout",
     "output_type": "stream",
     "text": [
      "enter the file name:newfile.txt\n",
      "Upper case characters: HIIGOODMORNING\n",
      "Lower case characters:   \n"
     ]
    }
   ],
   "source": [
    "def findchar(fname):\n",
    "    s1=\"\"\n",
    "    s2=\"\"\n",
    "    with open(fname,\"r\") as f:\n",
    "        x=f.read()\n",
    "        for i in x:\n",
    "            if i.isupper()==True:\n",
    "                s1=s1+i\n",
    "            else:\n",
    "                s2=s2+i\n",
    "        print(\"Upper case characters:\",s1)\n",
    "        print(\"Lower case characters:\",s2)           \n",
    "fname=input(\"enter the file name:\") \n",
    "findchar(fname)"
   ]
  },
  {
   "cell_type": "markdown",
   "metadata": {},
   "source": [
    "### 1. The program must accept an integer N the input. The program must print the desired pattern as shown in the Example Input/Output section.\n",
    "Input Format:\n",
    "The first line contains the value of N.\n",
    "Output Format:\n",
    "The list of lines containing the desired pattern as shown in the Example Input/Output sections.\n",
    "Example Input/Output 1:\n",
    "Input:\n",
    "41325\n",
    "Output:\n",
    "|****\n",
    "|*\n",
    "|***\n",
    "|**\n",
    "|*****"
   ]
  },
  {
   "cell_type": "code",
   "execution_count": null,
   "metadata": {},
   "outputs": [],
   "source": [
    "def pattern(num):\n",
    "    l=[]\n",
    "    while num>0:\n",
    "        r=num%10\n",
    "        l.append(i)\n",
    "        num=num//10\n",
    "    return l\n",
    "num=int(input(\"enter the number:\"))\n",
    "x=pattern(num)\n",
    "y=x[::-1]\n",
    "for i in y:\n",
    "    print('|{}'.format(\"*\"*i))\n",
    "\n"
   ]
  },
  {
   "cell_type": "markdown",
   "metadata": {},
   "source": [
    "### 2.  Write a Python program that accepts a word from the user and reverse it."
   ]
  },
  {
   "cell_type": "code",
   "execution_count": null,
   "metadata": {},
   "outputs": [],
   "source": [
    "str=input(\"enter the word:\")\n",
    "l=[]\n",
    "for i in str:\n",
    "    l.insert(0,i)\n",
    "print(*l)    "
   ]
  },
  {
   "cell_type": "markdown",
   "metadata": {},
   "source": [
    "### 3. Write a Python program that prints all the numbers from 0 to 6 except 3 and 6."
   ]
  },
  {
   "cell_type": "code",
   "execution_count": null,
   "metadata": {},
   "outputs": [],
   "source": [
    "for i in range(0,7)\n",
    "  if i!=3 or i!=6:\n",
    "        print(i)"
   ]
  },
  {
   "cell_type": "markdown",
   "metadata": {},
   "source": [
    "### 4.  Write a Python program that accepts a string and calculate the number of digits and letters. \n",
    "         Input: Python 3.6\n",
    "        Expected Output :\n",
    "                  Letters 6\n",
    "                  Digits 2 "
   ]
  },
  {
   "cell_type": "code",
   "execution_count": null,
   "metadata": {},
   "outputs": [],
   "source": [
    "n=input(\"\")\n",
    "for i in n:\n",
    "    x=0\n",
    "    y=0\n",
    "    if i.isalpha()==True:\n",
    "        x+=1\n",
    "    elif i.isnumeric()==True:\n",
    "        y+=1\n",
    "print(\"Letters \",x)\n",
    "print(\"Digits \",y)\n",
    "        \n"
   ]
  },
  {
   "cell_type": "markdown",
   "metadata": {},
   "source": [
    "### 5. Write a Python program to check the validity of password input by users. \n",
    "* Validation :\n",
    "* At least 1 letter between [a-z] and 1 letter between [A-Z].\n",
    "* At least 1 number between [0-9].\n",
    "* At least 1 character from [$#@].\n",
    "* Minimum length 6 characters.\n",
    "* Maximum length 16 characters"
   ]
  },
  {
   "cell_type": "markdown",
   "metadata": {},
   "source": [
    "pswd=input(\"enter the password:\")\n"
   ]
  },
  {
   "cell_type": "markdown",
   "metadata": {},
   "source": [
    "### 6.  Write a Python program to check whether an alphabet is a vowel or consonant. \n",
    "     Expected Output:\n",
    "    Input a letter of the alphabet: k                                       \n",
    "    k is a consonant."
   ]
  },
  {
   "cell_type": "code",
   "execution_count": 2,
   "metadata": {},
   "outputs": [
    {
     "name": "stdout",
     "output_type": "stream",
     "text": [
      "a letter of the alphabet: k\n",
      "consonant\n"
     ]
    }
   ],
   "source": [
    "def charCheck(ch):\n",
    "    vowels=[97,101,105,111,117,65,69,73,79,85]\n",
    "    if ord(ch) in vowels:\n",
    "        print(\"vowel\")\n",
    "    else:\n",
    "        print(\"consonant\")   \n",
    "ch=input(\"a letter of the alphabet: \")\n",
    "charCheck(ch)"
   ]
  },
  {
   "cell_type": "markdown",
   "metadata": {},
   "source": [
    "### 7. Write a Python program to check a string represent an integer or not.\n",
    "   Expected Output:\n",
    "      Input a string: Python                                                  \n",
    "      The string is not an integer"
   ]
  },
  {
   "cell_type": "code",
   "execution_count": 5,
   "metadata": {},
   "outputs": [
    {
     "name": "stdout",
     "output_type": "stream",
     "text": [
      "python3\n",
      "The string is not an integer\n"
     ]
    }
   ],
   "source": [
    "def IntegerOrNot(str):\n",
    "    count=0\n",
    "    for i in str:\n",
    "        if ord(i)>=48 and ord(i)<=57:\n",
    "            count+=1\n",
    "        else:\n",
    "            pass\n",
    "    if count>1:\n",
    "        print(\"Integer\")\n",
    "    else:\n",
    "        print(\"The string is not an integer\")\n",
    "        \n",
    "str=input(\"\")\n",
    "IntegerOrNot(str)"
   ]
  },
  {
   "cell_type": "code",
   "execution_count": null,
   "metadata": {},
   "outputs": [],
   "source": []
  },
  {
   "cell_type": "code",
   "execution_count": null,
   "metadata": {},
   "outputs": [],
   "source": []
  }
 ],
 "metadata": {
  "kernelspec": {
   "display_name": "Python 3",
   "language": "python",
   "name": "python3"
  },
  "language_info": {
   "codemirror_mode": {
    "name": "ipython",
    "version": 3
   },
   "file_extension": ".py",
   "mimetype": "text/x-python",
   "name": "python",
   "nbconvert_exporter": "python",
   "pygments_lexer": "ipython3",
   "version": "3.7.4"
  }
 },
 "nbformat": 4,
 "nbformat_minor": 2
}
