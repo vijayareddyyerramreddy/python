{
 "cells": [
  {
   "cell_type": "markdown",
   "metadata": {},
   "source": [
    "### Regular Expressions\n",
    "* pattern matching\n",
    "* Digits,alpha*lower and Upper case*\n",
    "#### Regex pal.com \n",
    "* to test regualar expressions\n",
    "* start symbo...^# (cap)\n",
    "* end symbol..$ # (dollar)\n",
    "* Repetition.....{}\n"
   ]
  },
  {
   "cell_type": "code",
   "execution_count": 2,
   "metadata": {},
   "outputs": [
    {
     "name": "stdout",
     "output_type": "stream",
     "text": [
      "True\n",
      "False\n"
     ]
    }
   ],
   "source": [
    "# Build the python code to match\n",
    "# The two digit number\n",
    "import re\n",
    "def twoDigitNumberMatch(n):\n",
    "    pattern=\"^[0-9]{2}$\"\n",
    "    n=str(n)\n",
    "    if re.match(pattern,n):\n",
    "        return True\n",
    "    return False\n",
    "print(twoDigitNumberMatch(12)) # True\n",
    "print(twoDigitNumberMatch(1234)) # False    "
   ]
  },
  {
   "cell_type": "code",
   "execution_count": 3,
   "metadata": {},
   "outputs": [],
   "source": [
    "# User name matching--\n",
    "# Lower case and Upper case\n",
    "#[a-z]\n",
    "#[A-Z]\n",
    "#[0-9]\n",
    "# minimum length--Min 6\n",
    "#Max-15\n"
   ]
  },
  {
   "cell_type": "code",
   "execution_count": 5,
   "metadata": {},
   "outputs": [
    {
     "name": "stdout",
     "output_type": "stream",
     "text": [
      "True\n",
      "False\n"
     ]
    }
   ],
   "source": [
    "def matchUsername(s):\n",
    "    pattern=\"^[A-Z a-z 0-9 _]{6,15}$\"\n",
    "    if re.match(pattern,s):\n",
    "        return True\n",
    "    return False\n",
    "\n",
    "print(matchUsername('Anil_1889'))    \n",
    "print(matchUsername('Ani_1')) \n"
   ]
  },
  {
   "cell_type": "code",
   "execution_count": 11,
   "metadata": {},
   "outputs": [
    {
     "name": "stdout",
     "output_type": "stream",
     "text": [
      "True\n",
      "False\n"
     ]
    }
   ],
   "source": [
    "#Regular Expression to validate the Roll Number\n",
    "#Example:1521A0501\n",
    "#Example:1521A0109\n",
    "#Example:1521A0499\n",
    "def ValidationOfRolno(n):\n",
    "    pattern=\"^[1][5][2][1][A][0][1-9][0-9]{2,2}$\"\n",
    "    if re.match(pattern,n):\n",
    "        return True\n",
    "    return False\n",
    "\n",
    "print(ValidationOfRolno('1521A0501'))\n",
    "print(ValidationOfRolno('1521B05011234'))"
   ]
  },
  {
   "cell_type": "code",
   "execution_count": 16,
   "metadata": {},
   "outputs": [
    {
     "name": "stdout",
     "output_type": "stream",
     "text": [
      "False\n",
      "True\n"
     ]
    }
   ],
   "source": [
    "#Regular Expresion to validate password\n",
    "# parameters lower case, upper, case digits and special characters @ # !\n",
    "\n",
    "\n",
    "\n",
    "def validatePassword(n):\n",
    "    pattern=\"^[a-z A-Z 0-9 @ # !]{6,15}$\"\n",
    "    if re.match(pattern,n):\n",
    "        return True\n",
    "    return False\n",
    "    \n",
    "print(validatePassword('Asn1@'))\n",
    "print(validatePassword('Eswari89@12'))"
   ]
  },
  {
   "cell_type": "code",
   "execution_count": 13,
   "metadata": {},
   "outputs": [
    {
     "name": "stdout",
     "output_type": "stream",
     "text": [
      "True\n",
      "False\n"
     ]
    }
   ],
   "source": [
    "#Validate the Indian Mobilenumber\n",
    "#Example1:6893264570 # True\n",
    "#Example1:9893264571 #True\n",
    "#Example1:58932645707 #False\n",
    "def validateIndianMobileNo(n):\n",
    "    pattern=\"^[6-9][0-9]{9}$\"\n",
    "    n=str(n)\n",
    "    if re.match(pattern,n):\n",
    "        return True\n",
    "    return False\n",
    "print(validateIndianMobileNo(6987432101))\n",
    "print(validateIndianMobileNo(4987432101))"
   ]
  },
  {
   "cell_type": "code",
   "execution_count": 21,
   "metadata": {},
   "outputs": [
    {
     "name": "stdout",
     "output_type": "stream",
     "text": [
      "False\n",
      "True\n",
      "True\n"
     ]
    }
   ],
   "source": [
    "#validation for Indian mobile number\n",
    "#[0-9]--digits\n",
    "#Example1:993264570\n",
    "#Example1:09932645701\n",
    "#Example1:+919932645701\n",
    "def validateIndianMobileNo(n):\n",
    "    pattern=\"^[+][9][1][6-9][0-9]{9,12}$|^[6-9][0-9]{9}$|^[0][6-9][0-9]{9}$\"\n",
    "    n=str(n)\n",
    "    if re.match(pattern,n):\n",
    "        return True\n",
    "    return False\n",
    "print(validateIndianMobileNo(4987432101))\n",
    "print(validateIndianMobileNo('+919932645701'))\n",
    "print(validateIndianMobileNo('09932645701'))"
   ]
  },
  {
   "cell_type": "markdown",
   "metadata": {},
   "source": [
    "# #To validate the Email ID\n",
    "8anilkumar@dhyanahitha.org\n",
    "* anilkumar1889@dhyanahitha.com\n",
    "* anilkumar1889@dhyanahitha.in\n",
    "* anilkumar1234@hotmail.org\n",
    "* username@domainname.extension\n",
    "### Username\n",
    "* lower upper digits and underscore\n",
    "* first character-- Lower/ Upper\n",
    "* Max--16 Min--6\n",
    "* **Regular Expression:**^[a-z A-Z][a-z A-z 0-9 _ ,]{5,15}$\n",
    "**Domainname**\n",
    "* Gmail ymail hotmail yahoo outlook live\n",
    "*starts with--[@]\n",
    "* [a-z A-z]\n",
    "* Regular Expression: min--3 Max--10\n",
    "* **Regular Expression:**^[@][A-Z a-z ]{3,10}$\n",
    "### Extension\n",
    "* starts with--[.]\n",
    "* lower upper\n",
    "* min--2\n",
    "* max--3\n",
    "* **Regular Expression:**^[.][a-z A-Z]{2,3}$\n"
   ]
  },
  {
   "cell_type": "code",
   "execution_count": 29,
   "metadata": {},
   "outputs": [
    {
     "name": "stdout",
     "output_type": "stream",
     "text": [
      "False\n",
      "True\n"
     ]
    }
   ],
   "source": [
    "def ValidateEmailID(email):\n",
    "    pattern=\"^[A-Z a-z][a-z A-z 0-9 _ .]{5,15}[@][A-Z a-z]{3,10}[.][a-z A-Z]{2,3}$\"\n",
    "    if re.match(pattern,email):\n",
    "        return True\n",
    "    return False\n",
    "print(ValidateEmailID('1Vijayareddy_96@gmail.com'))\n",
    "print(ValidateEmailID('Vijayareddy_1997@gmail.com'))"
   ]
  },
  {
   "cell_type": "code",
   "execution_count": null,
   "metadata": {},
   "outputs": [],
   "source": []
  }
 ],
 "metadata": {
  "kernelspec": {
   "display_name": "Python 3",
   "language": "python",
   "name": "python3"
  },
  "language_info": {
   "codemirror_mode": {
    "name": "ipython",
    "version": 3
   },
   "file_extension": ".py",
   "mimetype": "text/x-python",
   "name": "python",
   "nbconvert_exporter": "python",
   "pygments_lexer": "ipython3",
   "version": "3.7.4"
  }
 },
 "nbformat": 4,
 "nbformat_minor": 2
}
