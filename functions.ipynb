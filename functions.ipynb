{
 "cells": [
  {
   "cell_type": "code",
   "execution_count": 5,
   "metadata": {},
   "outputs": [
    {
     "name": "stdout",
     "output_type": "stream",
     "text": [
      "(1, 2, 3, 4, 5)\n",
      "15\n"
     ]
    }
   ],
   "source": [
    "def addition(*b):#variable length arguments\n",
    "    sum=0\n",
    "    print(b)\n",
    "    for i in b:\n",
    "        sum=sum+i    \n",
    "    print(sum)       \n",
    "addition(1,2,3,4,5)    "
   ]
  },
  {
   "cell_type": "markdown",
   "metadata": {},
   "source": [
    "# variable length or arbitary arguments"
   ]
  },
  {
   "cell_type": "code",
   "execution_count": null,
   "metadata": {},
   "outputs": [],
   "source": [
    "# def addition(*b):  \n",
    "    print(sum(b))       \n",
    "addition(1,2,3,4,5)  "
   ]
  },
  {
   "cell_type": "markdown",
   "metadata": {},
   "source": [
    "# requierd or positional arguments"
   ]
  },
  {
   "cell_type": "code",
   "execution_count": 7,
   "metadata": {},
   "outputs": [
    {
     "name": "stdout",
     "output_type": "stream",
     "text": [
      "6\n"
     ]
    }
   ],
   "source": [
    "def addition(a,b,c):#Positional Arguments\n",
    "    sum=a+b+c\n",
    "    print(sum)\n",
    "addition(1,2,3)  "
   ]
  },
  {
   "cell_type": "markdown",
   "metadata": {},
   "source": [
    "# keyword arguments"
   ]
  },
  {
   "cell_type": "code",
   "execution_count": 8,
   "metadata": {},
   "outputs": [
    {
     "name": "stdout",
     "output_type": "stream",
     "text": [
      "6\n"
     ]
    }
   ],
   "source": [
    "def addition(c,b,a):#Keyword Arguments\n",
    "    sum=a+b+c\n",
    "    print(sum)\n",
    "addition(a=1,b=2,c=3)"
   ]
  },
  {
   "cell_type": "markdown",
   "metadata": {},
   "source": [
    "# default arguments"
   ]
  },
  {
   "cell_type": "code",
   "execution_count": 10,
   "metadata": {},
   "outputs": [
    {
     "name": "stdout",
     "output_type": "stream",
     "text": [
      "40\n"
     ]
    }
   ],
   "source": [
    "def addition(a,c=10,b=10):#default Arguments\n",
    "    sum=a+b+c\n",
    "    print(sum)\n",
    "addition(10,20)"
   ]
  },
  {
   "cell_type": "code",
   "execution_count": 14,
   "metadata": {},
   "outputs": [
    {
     "name": "stdout",
     "output_type": "stream",
     "text": [
      "enter the name:ram\n",
      "No\n"
     ]
    }
   ],
   "source": [
    "#1. Accept name as input and search for that name in the master list if the name is available, print yes or print no\n",
    "def exist(b,n):\n",
    "    if n in b:\n",
    "        print(\"Yes\")\n",
    "    else:\n",
    "        print(\"No\")\n",
    "n=input(\"enter the name:\")\n",
    "list=['sasi','nani','vijaya','teja','ravali','naseer']\n",
    "exist(list,n)"
   ]
  },
  {
   "cell_type": "code",
   "execution_count": 22,
   "metadata": {},
   "outputs": [
    {
     "name": "stdout",
     "output_type": "stream",
     "text": [
      "4\n"
     ]
    }
   ],
   "source": [
    "#2.Print the count of the students whose age is >20\n",
    "def count_age(x):\n",
    "    list=[]\n",
    "    for i in x.values():\n",
    "        if i>20:\n",
    "            list.append(i)\n",
    "        else:\n",
    "            pass\n",
    "    print(len(list))       \n",
    "students={\"vijaya\":23,\"vinitha\":20,\"supraja\":19,\"sai\":24,\"ram\":32,\"ravali\":55}\n",
    "count_age(students)"
   ]
  },
  {
   "cell_type": "code",
   "execution_count": 40,
   "metadata": {},
   "outputs": [
    {
     "name": "stdout",
     "output_type": "stream",
     "text": [
      "enter the value:11\n",
      "True\n"
     ]
    }
   ],
   "source": [
    "#3. Read the Input as number and print the output as true or false.\n",
    "#Example 1:\n",
    "#Input : 11\n",
    "#Output : True\n",
    "def prime(n):\n",
    "    x=0\n",
    "    for i in range(1,n+1):\n",
    "        if n%i==0:\n",
    "            x+=1\n",
    "    if x==2:\n",
    "        print(\"True\")\n",
    "    else:\n",
    "        print(\"False\")        \n",
    "n=int(input(\"enter the value:\")) \n",
    "prime(n)"
   ]
  },
  {
   "cell_type": "code",
   "execution_count": 16,
   "metadata": {},
   "outputs": [
    {
     "name": "stdout",
     "output_type": "stream",
     "text": [
      "enter the value:5\n"
     ]
    }
   ],
   "source": [
    "#3. Read the input as number N and print the output as prime number count between 1 to N\n",
    "#Example 1;\n",
    "#Input : 10\n",
    "#Output : 4 (2,3,5,7)\n",
    "def prime(n):\n",
    "    y=[]\n",
    "    for i in range(1,n+1):\n",
    "        flag=0\n",
    "        for j in range(1,i+1):  \n",
    "            if i%j==0:\n",
    "                flag+=1\n",
    "    if flag==2:\n",
    "        y.append(i)\n",
    "    else:\n",
    "        pass            \n",
    "n=int(input(\"enter the value:\"))\n",
    "prime(n)\n",
    "            \n",
    "            \n",
    "            \n",
    "        "
   ]
  },
  {
   "cell_type": "code",
   "execution_count": 29,
   "metadata": {},
   "outputs": [],
   "source": [
    "#5. Read the input as two limits and print the output as palindrome count between the two limits\n",
    "#Example 1;\n",
    "#Input : 1 10\n",
    "#Output : 1 2 3 4 5 6 7 8 9\n",
    "#Example 2:\n",
    "#Input : 1 100\n",
    "#Output : 1 2 3 4 5 6 7 8 9 11 22 33 44 55 66 77 88 99\n",
    "def palindome(n1,n2)\n",
    "    digit=0\n",
    "    rev=0\n",
    "     for num in range(n1,n2+1):\n",
    "            while num>0\n",
    "                digit=num%10\n",
    "                rev=(ev*10)+digit\n",
    "                num\n",
    "    \n",
    "\n",
    "\n",
    "limit1=int(input(\"enter the value limit1 value:\"))\n",
    "limit2=int(input(\"enter the value limit2 value:\"))\n",
    "palindrome(limit1,limit2)"
   ]
  },
  {
   "cell_type": "code",
   "execution_count": 27,
   "metadata": {},
   "outputs": [
    {
     "name": "stdout",
     "output_type": "stream",
     "text": [
      "Enter upper range: 10\n",
      "2,3,5,7,count 4\n"
     ]
    }
   ],
   "source": [
    "#3. Read the input as number N and print the output as prime number count between 1 to N\n",
    "#Example 1;\n",
    "#Input : 10\n",
    "#Output : 4 (2,3,5,7)\n",
    "upto = int(input(\"Enter upper range: \"))  \n",
    "cnt = 0\n",
    "for num in range(1,upto + 1):\n",
    "    if num > 1:  \n",
    "        for i in range(2,num):  \n",
    "            if (num % i) == 0:  \n",
    "                break      \n",
    "        else:\n",
    "            print(num,end=\",\")\n",
    "            cnt+=1\n",
    "print(\"count\", cnt)\n"
   ]
  },
  {
   "cell_type": "code",
   "execution_count": null,
   "metadata": {},
   "outputs": [],
   "source": []
  }
 ],
 "metadata": {
  "kernelspec": {
   "display_name": "Python 3",
   "language": "python",
   "name": "python3"
  },
  "language_info": {
   "codemirror_mode": {
    "name": "ipython",
    "version": 3
   },
   "file_extension": ".py",
   "mimetype": "text/x-python",
   "name": "python",
   "nbconvert_exporter": "python",
   "pygments_lexer": "ipython3",
   "version": "3.7.4"
  }
 },
 "nbformat": 4,
 "nbformat_minor": 2
}
