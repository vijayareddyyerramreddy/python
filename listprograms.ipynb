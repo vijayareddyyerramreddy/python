{
 "cells": [
  {
   "cell_type": "markdown",
   "metadata": {},
   "source": [
    "# Listprograms"
   ]
  },
  {
   "cell_type": "code",
   "execution_count": 1,
   "metadata": {},
   "outputs": [
    {
     "name": "stdout",
     "output_type": "stream",
     "text": [
      "Enter the number:8\n",
      "The given number is even\n"
     ]
    }
   ],
   "source": [
    "# check whether the given number is even or not\n",
    "n=int(input(\"Enter the number:\"))\n",
    "if n%2==0:\n",
    "    print(\"The given number is even\")\n",
    "else:\n",
    "    print(\"The given number is odd\")"
   ]
  },
  {
   "cell_type": "code",
   "execution_count": 2,
   "metadata": {},
   "outputs": [
    {
     "name": "stdout",
     "output_type": "stream",
     "text": [
      "Enter the age of a person:20\n",
      "Elgible for voting\n"
     ]
    }
   ],
   "source": [
    "#Accept age of a person and decide whether the candidate is eligible for voting or not\n",
    "age=int(input(\"Enter the age of a person:\"))\n",
    "if age>=18:\n",
    "    print(\"Elgible for voting\")\n",
    "else:\n",
    "    print(\"Not elgible for voting\")\n"
   ]
  },
  {
   "cell_type": "code",
   "execution_count": 18,
   "metadata": {},
   "outputs": [
    {
     "name": "stdout",
     "output_type": "stream",
     "text": [
      "Enter the number:6\n",
      " satisfied the condition\n"
     ]
    }
   ],
   "source": [
    "#Check whether the given number is divible by 2 and 3 but not 4.\n",
    "n=int(input(\"Enter the number:\"))\n",
    "if n%2==0 and n%3==0 and n%4!=0:\n",
    "    print(\" satisfied the condition\")\n",
    "\n",
    "else:\n",
    "    print(\" not satisfied condition\")\n"
   ]
  },
  {
   "cell_type": "code",
   "execution_count": 10,
   "metadata": {},
   "outputs": [
    {
     "name": "stdout",
     "output_type": "stream",
     "text": [
      "Enter the number a:23\n",
      "Enter the number b:6\n",
      "Enter the number c:78\n",
      "c is large number: 78\n"
     ]
    }
   ],
   "source": [
    "#find the large number from the given 3 numbers.\n",
    "a=int(input(\"Enter the number a:\"))\n",
    "b=int(input(\"Enter the number b:\"))\n",
    "c=int(input(\"Enter the number c:\"))\n",
    "if a>b and a>c:\n",
    "    print(\"a is large number:\",a)\n",
    "elif b>c:\n",
    "    print(\"b is large number:\",b)\n",
    "else:\n",
    "    print(\"c is large number:\",c)\n",
    "    "
   ]
  },
  {
   "cell_type": "code",
   "execution_count": 34,
   "metadata": {},
   "outputs": [
    {
     "name": "stdout",
     "output_type": "stream",
     "text": [
      "Enter the year:2000\n",
      "The given year is leapyear and centuary year \n"
     ]
    }
   ],
   "source": [
    "#check whether the given year is leap year or not\n",
    "year=int(input(\"Enter the year:\"))\n",
    "if year%4==0:\n",
    "    if year%100==0 and year%400!=0:\n",
    "        print(\"The given year is centuray year but not leapyear \")\n",
    "    elif year%100==0 and year%400==0:\n",
    "        print(\"The given year is leapyear and centuary year \")\n",
    "    else:\n",
    "        print(\"The given year is a leap year\")\n",
    "else:\n",
    "    print(\"the given year is not a leapyear\")\n",
    "    "
   ]
  },
  {
   "cell_type": "code",
   "execution_count": 8,
   "metadata": {},
   "outputs": [
    {
     "name": "stdout",
     "output_type": "stream",
     "text": [
      "enter the string:applications\n",
      "enter the character:a\n",
      "2\n"
     ]
    }
   ],
   "source": [
    "# Read the string and char as input and print the number of occurances of charin the given string.\n",
    "str=input(\"enter the string:\")\n",
    "chr=input(\"enter the character:\")\n",
    "if chr not in str:\n",
    "    print(\"entered wrong character\")\n",
    "else:    \n",
    "    print(str.count(chr))\n"
   ]
  },
  {
   "cell_type": "code",
   "execution_count": 2,
   "metadata": {},
   "outputs": [
    {
     "name": "stdout",
     "output_type": "stream",
     "text": [
      "enter the string:pYthONpROGRAM\n",
      "PyTHonProgram\n"
     ]
    }
   ],
   "source": [
    "#Read the input as string and print the output in the following manner\n",
    "str=input(\"enter the string:\")\n",
    "x=str.swapcase()\n",
    "print(x)"
   ]
  },
  {
   "cell_type": "code",
   "execution_count": 12,
   "metadata": {},
   "outputs": [
    {
     "name": "stdout",
     "output_type": "stream",
     "text": [
      "enter the string:malayalam\n",
      "after reversing: malayalam\n",
      "the given string is palindrome\n"
     ]
    }
   ],
   "source": [
    "#Test whether the string is palindrome or not\n",
    "s=input(\"enter the string:\")\n",
    "act=s\n",
    "rev=s[::-1]\n",
    "print( \"after reversing:\",rev)\n",
    "if rev==act:\n",
    "    print(\"the given string is palindrome\")\n",
    "else:\n",
    "    print(\"The given string is not palindrome\")"
   ]
  },
  {
   "cell_type": "code",
   "execution_count": 44,
   "metadata": {},
   "outputs": [
    {
     "name": "stdout",
     "output_type": "stream",
     "text": [
      "[1, 2, 3, 4]\n"
     ]
    }
   ],
   "source": [
    "#Convert string into list\n",
    "str=\"1234\"\n",
    "l=[]\n",
    "for i in str:\n",
    "    l.append(int(i))\n",
    "print(l)\n",
    "\n"
   ]
  },
  {
   "cell_type": "code",
   "execution_count": 36,
   "metadata": {},
   "outputs": [
    {
     "ename": "SyntaxError",
     "evalue": "invalid syntax (<ipython-input-36-fd50e4b331c7>, line 5)",
     "output_type": "error",
     "traceback": [
      "\u001b[1;36m  File \u001b[1;32m\"<ipython-input-36-fd50e4b331c7>\"\u001b[1;36m, line \u001b[1;32m5\u001b[0m\n\u001b[1;33m    for i in range list1:\u001b[0m\n\u001b[1;37m                       ^\u001b[0m\n\u001b[1;31mSyntaxError\u001b[0m\u001b[1;31m:\u001b[0m invalid syntax\n"
     ]
    }
   ],
   "source": [
    "#.Print the second largest string from the list of string\n",
    "# Input: a=[\"Python\",\"Java\",\"C\",\"programming\", \"Swift\"]\n",
    "list1=[\"python\",\"datascience\",\"aws\",\"c\",\"was\"]\n",
    "list2=[]\n",
    "for i in range list1:\n",
    "    list2[]+=len(list1[i]) \n",
    "print(list2)\n"
   ]
  },
  {
   "cell_type": "code",
   "execution_count": null,
   "metadata": {},
   "outputs": [],
   "source": []
  },
  {
   "cell_type": "code",
   "execution_count": null,
   "metadata": {},
   "outputs": [],
   "source": []
  }
 ],
 "metadata": {
  "kernelspec": {
   "display_name": "Python 3",
   "language": "python",
   "name": "python3"
  },
  "language_info": {
   "codemirror_mode": {
    "name": "ipython",
    "version": 3
   },
   "file_extension": ".py",
   "mimetype": "text/x-python",
   "name": "python",
   "nbconvert_exporter": "python",
   "pygments_lexer": "ipython3",
   "version": "3.7.4"
  }
 },
 "nbformat": 4,
 "nbformat_minor": 2
}
