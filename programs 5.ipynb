{
 "cells": [
  {
   "cell_type": "markdown",
   "metadata": {},
   "source": [
    "# Day 8 pograms"
   ]
  },
  {
   "cell_type": "code",
   "execution_count": 6,
   "metadata": {},
   "outputs": [
    {
     "name": "stdout",
     "output_type": "stream",
     "text": [
      "enter the value:6\n",
      "1 2 3 6 "
     ]
    }
   ],
   "source": [
    "#1. Read a number as input and Print the Output as Factors of the given number\n",
    "# Example 1:\n",
    "#Input : 6\n",
    "#Output : 1 2 3 6\n",
    "n=int(input(\"enter the value:\"))\n",
    "fact=1\n",
    "i=1\n",
    "while i<=n:\n",
    "    if n%i==0:\n",
    "      print(i,end=\" \")\n",
    "    i+=1\n"
   ]
  },
  {
   "cell_type": "code",
   "execution_count": 25,
   "metadata": {},
   "outputs": [
    {
     "name": "stdout",
     "output_type": "stream",
     "text": [
      "9\n"
     ]
    }
   ],
   "source": [
    "def large(*a):\n",
    "    x=list(a)\n",
    "    x.sort()\n",
    "    print(x[-1])\n",
    "large(6,9,1,8)\n",
    "    "
   ]
  },
  {
   "cell_type": "code",
   "execution_count": 27,
   "metadata": {},
   "outputs": [
    {
     "name": "stdout",
     "output_type": "stream",
     "text": [
      "number: 6918\n",
      "9\n"
     ]
    }
   ],
   "source": [
    "#2.The program must accept an integer N as the input. Need to print the largest digit     from the given number.\n",
    "#Example :\n",
    "#Input1: 6 9 1 8\n",
    "#Output:9\n",
    "#Input2: 1 7 8 5 1 1\n",
    "#Output:8\n",
    "def large_num(x):\n",
    "    x.sort()\n",
    "    print(x[-1])\n",
    "num= int(input(\"number: \"))\n",
    "x=[]\n",
    "while num>0:\n",
    "    digit=num%10\n",
    "    x.append(digit)\n",
    "    num=num//10\n",
    "large_num(x)    "
   ]
  },
  {
   "cell_type": "code",
   "execution_count": 38,
   "metadata": {},
   "outputs": [
    {
     "name": "stdout",
     "output_type": "stream",
     "text": [
      "number: 19872\n",
      "10\n"
     ]
    }
   ],
   "source": [
    "#3. The program must accept an integer N as the input. Need to print the output in the following manner.\n",
    "#Boundary Condition(s):\n",
    "#Example:\n",
    "#Input1: 1889\n",
    "#Output:16\n",
    "#Input2: 19872\n",
    "#Output:10\n",
    "def boundary(l):\n",
    "    sum=0\n",
    "    for i in l:\n",
    "        if i%2==0:\n",
    "            sum=sum+i\n",
    "        else:\n",
    "            pass\n",
    "    print(sum)    \n",
    "num= int(input(\"number: \"))\n",
    "x=[]\n",
    "while num>0:\n",
    "    digit=num%10\n",
    "    x.append(digit)\n",
    "    num=num//10\n",
    "boundary(x)    "
   ]
  },
  {
   "cell_type": "code",
   "execution_count": 4,
   "metadata": {},
   "outputs": [
    {
     "name": "stdout",
     "output_type": "stream",
     "text": [
      "enter the value:5\n",
      "factorial of a given number: 120\n"
     ]
    }
   ],
   "source": [
    "#4. Write a user-defined function to find factorial of a number in all the possible ways\n",
    "n=int(input(\"enter the value:\"))\n",
    "fact=1\n",
    "i=1\n",
    "while i<=n:\n",
    "    fact=fact*i\n",
    "    i+=1\n",
    "print(\"factorial of a given number:\",fact)    "
   ]
  },
  {
   "cell_type": "code",
   "execution_count": 31,
   "metadata": {},
   "outputs": [
    {
     "name": "stdout",
     "output_type": "stream",
     "text": [
      "enter the value:5\n",
      "120\n"
     ]
    }
   ],
   "source": [
    "import math\n",
    "def fact(n):\n",
    "    return math.factorial(n)\n",
    "n=int(input(\"enter the value:\"))\n",
    "x=fact(n)\n",
    "print(x)\n"
   ]
  },
  {
   "cell_type": "code",
   "execution_count": 7,
   "metadata": {},
   "outputs": [
    {
     "name": "stdout",
     "output_type": "stream",
     "text": [
      "enter the digit:145\n",
      "Yes\n"
     ]
    }
   ],
   "source": [
    "#5.The program must accept an integer N as the input. Need to print the output in the following manner.\n",
    "#Example Input/Output 1:\n",
    "#Input1:145\n",
    "#Output:yes\n",
    "#Input2:123\n",
    "#Explanation : \n",
    "#Individual digit factorial sum is the same as the original number then need to print   YES otherwise  need to print NO\n",
    "#145 - 1! + 4! + 5! - 1 + 24 + 120 -- 145 -- YES\n",
    "#123 - 1! + 2! + 3! - 1 + 2 + 6 - 9 -- NO\n",
    "import math\n",
    "num=int(input(\"enter the digit:\"))\n",
    "act=num\n",
    "x=[]\n",
    "y=[]\n",
    "while num>0:\n",
    "    digit=num%10\n",
    "    x.append(digit)\n",
    "    num=num//10\n",
    "for i in x:\n",
    "    y.append(math.factorial(i))\n",
    "s=sum(y)\n",
    "if act==s:\n",
    "    print(\"Yes\")\n",
    "else:\n",
    "    print(\"No\")"
   ]
  },
  {
   "cell_type": "code",
   "execution_count": null,
   "metadata": {},
   "outputs": [],
   "source": []
  }
 ],
 "metadata": {
  "kernelspec": {
   "display_name": "Python 3",
   "language": "python",
   "name": "python3"
  },
  "language_info": {
   "codemirror_mode": {
    "name": "ipython",
    "version": 3
   },
   "file_extension": ".py",
   "mimetype": "text/x-python",
   "name": "python",
   "nbconvert_exporter": "python",
   "pygments_lexer": "ipython3",
   "version": "3.7.4"
  }
 },
 "nbformat": 4,
 "nbformat_minor": 2
}
