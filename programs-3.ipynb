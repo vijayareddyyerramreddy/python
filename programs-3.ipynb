{
 "cells": [
  {
   "cell_type": "markdown",
   "metadata": {},
   "source": [
    "# programs3"
   ]
  },
  {
   "cell_type": "code",
   "execution_count": 1,
   "metadata": {},
   "outputs": [
    {
     "name": "stdout",
     "output_type": "stream",
     "text": [
      "puboif"
     ]
    }
   ],
   "source": [
    "#1.Read the input as string and Output will followed\n",
    "# 1:\n",
    "#Input : orange \n",
    "#Output : puboif\n",
    "#Reason: Print the next consonent to the vowel and Print the vowel to the next consonent\n",
    "\n",
    "str=\"orange\"\n",
    "vowels=\"aeiou\"\n",
    "for i in str:\n",
    "    if i in vowels:\n",
    "        print(chr(ord(i)+1),end=\"\")\n",
    "    else:\n",
    "        if ord(i)>97 and ord(i)<101:\n",
    "            print(\"e\",end=\"\")\n",
    "        elif ord(i)>101 and ord(i)<105:\n",
    "            print(\"i\",end=\"\")\n",
    "        elif ord(i)>105 and ord(i)<111:\n",
    "            print(\"o\",end=\"\")\n",
    "        elif ord(i)>111 and ord(i)<117: \n",
    "            print(\"u\",end=\"\")\n",
    "        else:\n",
    "            print(\"a\",end=\"\")"
   ]
  },
  {
   "cell_type": "code",
   "execution_count": 2,
   "metadata": {},
   "outputs": [
    {
     "name": "stdout",
     "output_type": "stream",
     "text": [
      "enter the string:hi Are OKajty hin jhsdub\n",
      "are hin ['Are', 'hin']\n"
     ]
    }
   ],
   "source": [
    "#2.Read the input as string and Output will be alternate words in lower case\n",
    "#Input : Learn Python Programming EASy\n",
    "#Output : python easy\n",
    "n=input(\"enter the string:\")\n",
    "x=n.split()\n",
    "b=x[1::2]\n",
    "for word in b:\n",
    "       print(word.lower(),end=\" \")\n",
    "print(b)        \n"
   ]
  },
  {
   "cell_type": "code",
   "execution_count": 4,
   "metadata": {},
   "outputs": [
    {
     "name": "stdout",
     "output_type": "stream",
     "text": [
      "enter the string:PythonProgrMMINg\n",
      "pYTHONpROGRmminG\n"
     ]
    }
   ],
   "source": [
    "#4.Read the string as input and Print the output following the manner\n",
    "#Example #1:\n",
    "#Input: PythonProgrMMINg \n",
    "#Output: pYTHONpROGRmminG\n",
    "str=input(\"enter the string:\")\n",
    "x=str.swapcase()\n",
    "print(x)\n"
   ]
  },
  {
   "cell_type": "code",
   "execution_count": 1,
   "metadata": {},
   "outputs": [
    {
     "name": "stdout",
     "output_type": "stream",
     "text": [
      "enter the sting:Applc18iation89\n",
      "16 ( 8+8 )\n"
     ]
    }
   ],
   "source": [
    "#3.Read the input as string and Print the Output as Only even digit sum\n",
    "#Example #1:\n",
    "#Input : Applc18iation89\n",
    "#Output : 16 (8+8)\n",
    "n=input(\"enter the sting:\")\n",
    "x=\"ABCDEFGHIJKLMNOPQRSTUVWXYZabcdefghijklmnopqrstuvwxyz\"\n",
    "sum=0\n",
    "digit=[]\n",
    "for i in n:\n",
    "    if i in x:\n",
    "        pass\n",
    "    else:\n",
    "        y=int(i)\n",
    "        if y%2==0:\n",
    "            sum=sum+y\n",
    "            digit.append(str(y))                  \n",
    "z=\"+\".join(digit)\n",
    "print(sum,\"(\",z,\")\")\n",
    "            \n"
   ]
  },
  {
   "cell_type": "code",
   "execution_count": null,
   "metadata": {},
   "outputs": [],
   "source": []
  }
 ],
 "metadata": {
  "kernelspec": {
   "display_name": "Python 3",
   "language": "python",
   "name": "python3"
  },
  "language_info": {
   "codemirror_mode": {
    "name": "ipython",
    "version": 3
   },
   "file_extension": ".py",
   "mimetype": "text/x-python",
   "name": "python",
   "nbconvert_exporter": "python",
   "pygments_lexer": "ipython3",
   "version": "3.7.4"
  }
 },
 "nbformat": 4,
 "nbformat_minor": 2
}
