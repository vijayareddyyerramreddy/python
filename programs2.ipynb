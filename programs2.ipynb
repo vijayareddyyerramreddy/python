{
 "cells": [
  {
   "cell_type": "markdown",
   "metadata": {},
   "source": [
    "# Programs2"
   ]
  },
  {
   "cell_type": "code",
   "execution_count": 1,
   "metadata": {},
   "outputs": [
    {
     "name": "stdout",
     "output_type": "stream",
     "text": [
      "2\n",
      "4\n",
      "6\n",
      "8\n",
      "10\n"
     ]
    }
   ],
   "source": [
    "#1. Print  all the even numbers in the given range\n",
    "i=1\n",
    "while i<=10:\n",
    "    if i%2==0:\n",
    "        print(i)\n",
    "    else:\n",
    "        pass\n",
    "\n",
    "    i+=1 "
   ]
  },
  {
   "cell_type": "code",
   "execution_count": 13,
   "metadata": {},
   "outputs": [
    {
     "name": "stdout",
     "output_type": "stream",
     "text": [
      "enter a numbe:14\n",
      "1 3 5 7 9 11 13 "
     ]
    }
   ],
   "source": [
    "# 2.Print all the odd numbers in the given range\n",
    "n=int(input(\"enter a numbe:\"))\n",
    "for i in range(1,n+1):\n",
    "    if i%2!=0:\n",
    "        print(i,end=\" \")\n",
    "        "
   ]
  },
  {
   "cell_type": "code",
   "execution_count": 18,
   "metadata": {},
   "outputs": [
    {
     "name": "stdout",
     "output_type": "stream",
     "text": [
      "2-4-"
     ]
    }
   ],
   "source": [
    "a=\"12345\"\n",
    "for i in a:\n",
    "    if int(i)%2==0:\n",
    "      print(i,end=\"-\")"
   ]
  },
  {
   "cell_type": "code",
   "execution_count": 22,
   "metadata": {},
   "outputs": [
    {
     "name": "stdout",
     "output_type": "stream",
     "text": [
      "enter a value:10\n",
      "sum of even numbers in given nrange 30\n"
     ]
    }
   ],
   "source": [
    " #3. Print the sum of even numbers in the given range\n",
    "n=int(input(\"enter a value:\"))\n",
    "sum=0\n",
    "for i in range(1,n+1):\n",
    "    if i%2==0:\n",
    "        sum=sum+i\n",
    "    else:\n",
    "        pass\n",
    "print(\"sum of even numbers in given nrange\",sum)    "
   ]
  },
  {
   "cell_type": "code",
   "execution_count": 29,
   "metadata": {},
   "outputs": [
    {
     "name": "stdout",
     "output_type": "stream",
     "text": [
      "enter a value:5\n",
      "5 * 1 = 5\n",
      "5 * 2 = 10\n",
      "5 * 3 = 15\n",
      "5 * 4 = 20\n",
      "5 * 5 = 25\n",
      "5 * 6 = 30\n",
      "5 * 7 = 35\n",
      "5 * 8 = 40\n",
      "5 * 9 = 45\n",
      "5 * 10 = 50\n"
     ]
    }
   ],
   "source": [
    "#5.Multiplicative table for the given number\n",
    "x=int(input(\"enter a value:\"))\n",
    "for i in range(1,11):\n",
    "    print(x,\"*\",i,\"=\",x*i)"
   ]
  },
  {
   "cell_type": "code",
   "execution_count": 37,
   "metadata": {
    "scrolled": true
   },
   "outputs": [
    {
     "name": "stdout",
     "output_type": "stream",
     "text": [
      "enter the value:15\n",
      "fizzbuzz\n"
     ]
    }
   ],
   "source": [
    "#6. In the given range:\n",
    "  #     If number is only divisible by 3 print fizz\n",
    "  #    If number is divisible by 5 print buzz\n",
    "  #   If number is divisible by 3 and 5 print fizzbuzz\n",
    "i=int(input(\"enter the value:\"))\n",
    "if i%3==0 and i%5!=0:\n",
    "    print(\"fizz\")\n",
    "elif i%5==0 and i%3!=0:\n",
    "    print(\"buzz\")\n",
    "elif i%3==0 and i%5==0:\n",
    "    print(\"fizzbuzz\")        \n",
    "else:\n",
    "    pass\n",
    "    "
   ]
  },
  {
   "cell_type": "code",
   "execution_count": 3,
   "metadata": {},
   "outputs": [
    {
     "name": "stdout",
     "output_type": "stream",
     "text": [
      "enter the value:1234\n",
      "4\n",
      "3\n",
      "2\n",
      "1\n"
     ]
    }
   ],
   "source": [
    "#4. Print the digits of the given number\n",
    "n=int(input(\"enter the value:\"))\n",
    "i=n\n",
    "digit=0\n",
    "while i>0:\n",
    "    digit=i%10\n",
    "    print(digit)\n",
    "    i=i//10"
   ]
  },
  {
   "cell_type": "code",
   "execution_count": null,
   "metadata": {},
   "outputs": [],
   "source": []
  },
  {
   "cell_type": "code",
   "execution_count": null,
   "metadata": {},
   "outputs": [],
   "source": []
  }
 ],
 "metadata": {
  "kernelspec": {
   "display_name": "Python 3",
   "language": "python",
   "name": "python3"
  },
  "language_info": {
   "codemirror_mode": {
    "name": "ipython",
    "version": 3
   },
   "file_extension": ".py",
   "mimetype": "text/x-python",
   "name": "python",
   "nbconvert_exporter": "python",
   "pygments_lexer": "ipython3",
   "version": "3.7.4"
  }
 },
 "nbformat": 4,
 "nbformat_minor": 2
}
