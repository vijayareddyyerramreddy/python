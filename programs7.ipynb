{
 "cells": [
  {
   "cell_type": "markdown",
   "metadata": {},
   "source": [
    "# 1.In a range of 1 to 50,sort out the multiple of 3 using filter function."
   ]
  },
  {
   "cell_type": "code",
   "execution_count": 22,
   "metadata": {},
   "outputs": [
    {
     "data": {
      "text/plain": [
       "[3, 6, 9, 12, 15, 18, 21, 24, 27, 30, 33, 36, 39, 42, 45, 48]"
      ]
     },
     "execution_count": 22,
     "metadata": {},
     "output_type": "execute_result"
    }
   ],
   "source": [
    "def myfunction(a):\n",
    "    return a%3==0\n",
    "list(filter(myfunction,range(1,51)))"
   ]
  },
  {
   "cell_type": "markdown",
   "metadata": {},
   "source": [
    "# 2.Create a function to read a number and return sum of even digits in the given number."
   ]
  },
  {
   "cell_type": "code",
   "execution_count": 24,
   "metadata": {},
   "outputs": [
    {
     "name": "stdout",
     "output_type": "stream",
     "text": [
      "enter the value:123456\n",
      "12\n"
     ]
    }
   ],
   "source": [
    "def sum_even(y):\n",
    "    return sum(y)\n",
    "num=int(input(\"enter the value:\"))\n",
    "x=[]\n",
    "y=[]\n",
    "while num>0:\n",
    "    digit=num%10\n",
    "    x.append(digit)\n",
    "    num=num//10 \n",
    "for i in x:\n",
    "    if i%2==0:\n",
    "        y.append(i)\n",
    "x=sum_even(y)    \n",
    "print(x)       "
   ]
  },
  {
   "cell_type": "markdown",
   "metadata": {},
   "source": [
    "# 3.read a number and print the large digit using functions."
   ]
  },
  {
   "cell_type": "code",
   "execution_count": 27,
   "metadata": {},
   "outputs": [
    {
     "name": "stdout",
     "output_type": "stream",
     "text": [
      "enter the value:123456\n",
      "6\n"
     ]
    }
   ],
   "source": [
    "def large(x):\n",
    "    x.sort()\n",
    "    print(x[-1])\n",
    "num=int(input(\"enter the value:\"))\n",
    "x=[]\n",
    "while num>0:\n",
    "    digit=num%10\n",
    "    x.append(digit)\n",
    "    num=num//10\n",
    "large(x)    \n",
    "    "
   ]
  },
  {
   "cell_type": "code",
   "execution_count": null,
   "metadata": {},
   "outputs": [],
   "source": []
  }
 ],
 "metadata": {
  "kernelspec": {
   "display_name": "Python 3",
   "language": "python",
   "name": "python3"
  },
  "language_info": {
   "codemirror_mode": {
    "name": "ipython",
    "version": 3
   },
   "file_extension": ".py",
   "mimetype": "text/x-python",
   "name": "python",
   "nbconvert_exporter": "python",
   "pygments_lexer": "ipython3",
   "version": "3.7.4"
  }
 },
 "nbformat": 4,
 "nbformat_minor": 2
}
