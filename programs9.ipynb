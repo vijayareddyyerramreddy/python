{
 "cells": [
  {
   "cell_type": "markdown",
   "metadata": {},
   "source": [
    "# List comprehensions"
   ]
  },
  {
   "cell_type": "code",
   "execution_count": 9,
   "metadata": {},
   "outputs": [
    {
     "name": "stdout",
     "output_type": "stream",
     "text": [
      "[['a', 'b', 'c'], ['d', 'e', 'f'], ['g', 'h', 'i']]\n"
     ]
    }
   ],
   "source": [
    "a=[\"abc\",\"def\",\"ghi\"]\n",
    "l=[]\n",
    "for i in a:\n",
    "    l.append(list(i))\n",
    "print(l)    "
   ]
  },
  {
   "cell_type": "code",
   "execution_count": 11,
   "metadata": {},
   "outputs": [
    {
     "data": {
      "text/plain": [
       "[['a', 'b', 'c'], ['d', 'e', 'f'], ['g', 'h', 'i']]"
      ]
     },
     "execution_count": 11,
     "metadata": {},
     "output_type": "execute_result"
    }
   ],
   "source": [
    "[list(i) for i in a ]"
   ]
  },
  {
   "cell_type": "code",
   "execution_count": 19,
   "metadata": {},
   "outputs": [
    {
     "name": "stdout",
     "output_type": "stream",
     "text": [
      "[['a', 'b', 'c'], ['d', 'e', 'f'], ['g', 'h', 'i']]\n"
     ]
    }
   ],
   "source": [
    "a=[\"abc\",\"def\",\"ghi\"]\n",
    "def myfunction(x):\n",
    "    return list(x)\n",
    "y=map(myfunction,a)\n",
    "print(list(y))"
   ]
  },
  {
   "cell_type": "code",
   "execution_count": 24,
   "metadata": {},
   "outputs": [
    {
     "data": {
      "text/plain": [
       "[<map at 0x4a81288>]"
      ]
     },
     "execution_count": 24,
     "metadata": {},
     "output_type": "execute_result"
    }
   ],
   "source": [
    "[map(lambda x:x**2, range(10))]"
   ]
  },
  {
   "cell_type": "code",
   "execution_count": 25,
   "metadata": {},
   "outputs": [
    {
     "data": {
      "text/plain": [
       "[0, 1, 4, 9, 16, 25, 36, 49, 64, 81]"
      ]
     },
     "execution_count": 25,
     "metadata": {},
     "output_type": "execute_result"
    }
   ],
   "source": [
    "[*map(lambda x:x**2, range(10))]#* used unpacking the values"
   ]
  },
  {
   "cell_type": "code",
   "execution_count": 26,
   "metadata": {},
   "outputs": [
    {
     "ename": "SyntaxError",
     "evalue": "invalid syntax (<ipython-input-26-d321b6c17d7d>, line 1)",
     "output_type": "error",
     "traceback": [
      "\u001b[1;36m  File \u001b[1;32m\"<ipython-input-26-d321b6c17d7d>\"\u001b[1;36m, line \u001b[1;32m1\u001b[0m\n\u001b[1;33m    mylist=['1','2',3','4']\u001b[0m\n\u001b[1;37m                       ^\u001b[0m\n\u001b[1;31mSyntaxError\u001b[0m\u001b[1;31m:\u001b[0m invalid syntax\n"
     ]
    }
   ],
   "source": [
    "mylist=['1','2',3','4']\n",
    "map(int,mylist)\n",
    "list(map(int,mylist))        "
   ]
  },
  {
   "cell_type": "code",
   "execution_count": 34,
   "metadata": {},
   "outputs": [
    {
     "data": {
      "text/plain": [
       "[0, 2, 4, 6, 8]"
      ]
     },
     "execution_count": 34,
     "metadata": {},
     "output_type": "execute_result"
    }
   ],
   "source": [
    "[*filter(lambda x:x%2==0, range(10))]"
   ]
  },
  {
   "cell_type": "code",
   "execution_count": 29,
   "metadata": {},
   "outputs": [
    {
     "data": {
      "text/plain": [
       "[2, 3, 4, 5]"
      ]
     },
     "execution_count": 29,
     "metadata": {},
     "output_type": "execute_result"
    }
   ],
   "source": [
    "#input[1,2,3,4]\n",
    "#output:[2,3,4,5]\n",
    "l=[1,2,3,4]\n",
    "[*map(lambda x:x+1, l)]"
   ]
  },
  {
   "cell_type": "code",
   "execution_count": 30,
   "metadata": {},
   "outputs": [
    {
     "data": {
      "text/plain": [
       "[2, 3, 4, 5]"
      ]
     },
     "execution_count": 30,
     "metadata": {},
     "output_type": "execute_result"
    }
   ],
   "source": [
    "l=[1,2,3,4]\n",
    "[i+1 for i in l]"
   ]
  },
  {
   "cell_type": "code",
   "execution_count": 35,
   "metadata": {},
   "outputs": [
    {
     "data": {
      "text/plain": [
       "[22.3, 20.1, 30.5]"
      ]
     },
     "execution_count": 35,
     "metadata": {},
     "output_type": "execute_result"
    }
   ],
   "source": [
    "# using  list comprehension create a newlist out of a list of numbers,which contains the only positive numbes\n",
    "#list1=[-11.4,22.3,-45.2,20.1,30.5,-16.2]\n",
    "#newlist=[22.3,20.1,30.5]\n",
    "list1=[-11.4,22.3,-45.2,20.1,30.5,-16.2] \n",
    "[i for i in list1 if i>0]"
   ]
  },
  {
   "cell_type": "markdown",
   "metadata": {},
   "source": [
    "# syntax"
   ]
  },
  {
   "cell_type": "code",
   "execution_count": 41,
   "metadata": {},
   "outputs": [
    {
     "data": {
      "text/plain": [
       "[0, 10, 20, 30, 40]"
      ]
     },
     "execution_count": 41,
     "metadata": {},
     "output_type": "execute_result"
    }
   ],
   "source": [
    "#nested if\n",
    "list1=[i for i in range(50) if i%2==0 if i%5==0]\n",
    "list1"
   ]
  },
  {
   "cell_type": "code",
   "execution_count": 44,
   "metadata": {},
   "outputs": [
    {
     "data": {
      "text/plain": [
       "['even', 'odd', 'even', 'odd', 'even', 'odd', 'even', 'odd', 'even', 'odd']"
      ]
     },
     "execution_count": 44,
     "metadata": {},
     "output_type": "execute_result"
    }
   ],
   "source": [
    "#if else if else conditions come before iterable\n",
    "list1=[\"even\" if i%2==0 else \"odd\" for i in range(10)]\n",
    "list1"
   ]
  },
  {
   "cell_type": "markdown",
   "metadata": {},
   "source": [
    "# 1. Read the input as string and Output will be alternate words in lower case\n",
    "      \n"
   ]
  },
  {
   "cell_type": "code",
   "execution_count": 60,
   "metadata": {},
   "outputs": [
    {
     "ename": "SyntaxError",
     "evalue": "invalid syntax (<ipython-input-60-c0bcc6d1523b>, line 6)",
     "output_type": "error",
     "traceback": [
      "\u001b[1;36m  File \u001b[1;32m\"<ipython-input-60-c0bcc6d1523b>\"\u001b[1;36m, line \u001b[1;32m6\u001b[0m\n\u001b[1;33m    [i for i in list list[1:2]]\u001b[0m\n\u001b[1;37m                        ^\u001b[0m\n\u001b[1;31mSyntaxError\u001b[0m\u001b[1;31m:\u001b[0m invalid syntax\n"
     ]
    }
   ],
   "source": [
    "#Example #1:\n",
    "#Input : Learn Python Programming EASy\n",
    "#Output : python easy\n",
    "str=\"Learn Python Programming EASy\"\n",
    "list=str.split()\n",
    "[i for i in list l]"
   ]
  },
  {
   "cell_type": "code",
   "execution_count": 56,
   "metadata": {},
   "outputs": [
    {
     "name": "stdout",
     "output_type": "stream",
     "text": [
      "python easy hello "
     ]
    }
   ],
   "source": [
    "str=\"Learn Python Programming EASy hii hello\"\n",
    "list=str.split()\n",
    "for i in range(1,len(list),2):\n",
    "    print(list[i].lower(), end=\" \")"
   ]
  },
  {
   "cell_type": "markdown",
   "metadata": {},
   "source": [
    "# 2. The program must accept an integer N as the input. Need to print the output in the following    manner.\n",
    "     "
   ]
  },
  {
   "cell_type": "code",
   "execution_count": 87,
   "metadata": {},
   "outputs": [
    {
     "name": "stdout",
     "output_type": "stream",
     "text": [
      "enter the value:123\n",
      "three two one\n"
     ]
    }
   ],
   "source": [
    "#Example Input/Output 1:\n",
    "#145  \n",
    "#Output:\n",
    "#Five Four One\n",
    "#Example Input/Output 2:\n",
    "#123  \n",
    "#Output:\n",
    "#Three two one\n",
    "dict={\"1\":\"one\",\"2\":\"two\",\"3\":\"three\",\"4\":\"four\",\"5\":\"five\",\"6\":\"six\",\"7\":\"seven\",\"8\":\"eight\",\"9\":\"nine\",\"0\":\"zero\"}\n",
    "n=input(\"enter the value:\")\n",
    "l1=[]\n",
    "for i in n:\n",
    "    l1.append(dict.get(i))\n",
    "print(*l1[::-1])"
   ]
  },
  {
   "cell_type": "markdown",
   "metadata": {},
   "source": [
    "# 3. Count the number of occurances of elements in a list using traditional method and also with  list comprehension\n"
   ]
  },
  {
   "cell_type": "code",
   "execution_count": 8,
   "metadata": {},
   "outputs": [
    {
     "name": "stdout",
     "output_type": "stream",
     "text": [
      "abbbcacdc\n",
      "[ a 2 ] ,[ b 3 ] ,[ c 3 ] ,[ d 1 ] ,"
     ]
    }
   ],
   "source": [
    "#input : list= [\"a\", \"b\", \"b\",  \"b\",  \"c\",  \"a\", \"c\",  \"d\", \"c\"]\n",
    "#Output: [['b', 3], ['a', 2],[\"c\",3], [\"d\", 1]]\n",
    "list1= [\"a\", \"b\", \"b\",  \"b\",  \"c\",  \"a\", \"c\",  \"d\", \"c\"]\n",
    "x=\"\".join(list1)\n",
    "print(x)\n",
    "d={}\n",
    "for ch in x:\n",
    "    d[ch]=d.get(ch,0)+1\n",
    "for x,y in d.items():\n",
    "    print(\"[\",x,y,\"]\",\",\",end=\"\")"
   ]
  },
  {
   "cell_type": "markdown",
   "metadata": {},
   "source": [
    "# by using Counter"
   ]
  },
  {
   "cell_type": "code",
   "execution_count": 56,
   "metadata": {},
   "outputs": [
    {
     "data": {
      "text/plain": [
       "Counter({'a': 2, 'b': 3, 'c': 3, 'd': 1})"
      ]
     },
     "execution_count": 56,
     "metadata": {},
     "output_type": "execute_result"
    }
   ],
   "source": [
    "from collections import Counter\n",
    "list=[\"a\", \"b\", \"b\",  \"b\",  \"c\",  \"a\", \"c\",  \"d\", \"c\"]\n",
    "Counter(list)"
   ]
  },
  {
   "cell_type": "markdown",
   "metadata": {},
   "source": [
    "# by using list comprehension"
   ]
  },
  {
   "cell_type": "code",
   "execution_count": 57,
   "metadata": {},
   "outputs": [
    {
     "data": {
      "text/plain": [
       "[['b', 3], ['a', 2], ['d', 1], ['c', 3]]"
      ]
     },
     "execution_count": 57,
     "metadata": {},
     "output_type": "execute_result"
    }
   ],
   "source": [
    "list=[\"a\", \"b\", \"b\",  \"b\",  \"c\",  \"a\", \"c\",  \"d\", \"c\"]\n",
    "[[x,list.count(x)] for x in set(list)]"
   ]
  },
  {
   "cell_type": "code",
   "execution_count": 60,
   "metadata": {},
   "outputs": [
    {
     "data": {
      "text/plain": [
       "Counter({'a': 2, 'b': 3, 'c': 3, 'd': 1})"
      ]
     },
     "execution_count": 60,
     "metadata": {},
     "output_type": "execute_result"
    }
   ],
   "source": [
    "from collections import Counter\n",
    "tuple=(\"a\", \"b\", \"b\",  \"b\",  \"c\",  \"a\", \"c\",  \"d\", \"c\")\n",
    "Counter(tuple)"
   ]
  },
  {
   "cell_type": "code",
   "execution_count": 62,
   "metadata": {},
   "outputs": [
    {
     "data": {
      "text/plain": [
       "[['b', 3], ['a', 2], ['d', 1], ['c', 3]]"
      ]
     },
     "execution_count": 62,
     "metadata": {},
     "output_type": "execute_result"
    }
   ],
   "source": [
    "tuple=[\"a\", \"b\", \"b\",  \"b\",  \"c\",  \"a\", \"c\",  \"d\", \"c\"]\n",
    "[[x,tuple.count(x)] for x in set(tuple)]"
   ]
  },
  {
   "cell_type": "markdown",
   "metadata": {},
   "source": [
    "# 4. Split A Python List Into Evenly Sized Chunks\n",
    "#zip nd iter\n"
   ]
  },
  {
   "cell_type": "code",
   "execution_count": 9,
   "metadata": {},
   "outputs": [
    {
     "data": {
      "text/plain": [
       "[(1, 2, 3), (4, 5, 6), (7, 8, 9)]"
      ]
     },
     "execution_count": 9,
     "metadata": {},
     "output_type": "execute_result"
    }
   ],
   "source": [
    "#Input: x = [1,2,3,4,5,6,7,8,9]\n",
    "#Output  = [ (1, 2, 3), (4, 5, 6), (7, 8, 9) ]\n",
    "x = [1,2,3,4,5,6,7,8,9] \n",
    "y= zip(*[iter(x)]*3)\n",
    "list(y)"
   ]
  },
  {
   "cell_type": "code",
   "execution_count": 54,
   "metadata": {},
   "outputs": [
    {
     "name": "stdout",
     "output_type": "stream",
     "text": [
      "[(1, 2, 3),(4, 5, 6),(7, 8, 9)]"
     ]
    }
   ],
   "source": [
    "#Input: x = [1,2,3,4,5,6,7,8,9]\n",
    "#Output  = [ (1, 2, 3), (4, 5, 6), (7, 8, 9) ]\n",
    "x = [1,2,3,4,5,6,7,8,9]\n",
    "print(\"[\",end=\"\")\n",
    "print(tuple(x[0:3]),end=\",\")\n",
    "print(tuple(x[3:6]),end=\",\")\n",
    "print(tuple(x[6:10]),end=\"\")\n",
    "print(\"]\",end=\"\")\n"
   ]
  },
  {
   "cell_type": "markdown",
   "metadata": {},
   "source": [
    "# 5. Create Flat Lists Out Of Lists\n",
    "    "
   ]
  },
  {
   "cell_type": "code",
   "execution_count": 72,
   "metadata": {},
   "outputs": [
    {
     "data": {
      "text/plain": [
       "[1, 2, 3, 4, 5, 6]"
      ]
     },
     "execution_count": 72,
     "metadata": {},
     "output_type": "execute_result"
    }
   ],
   "source": [
    "#Input : list =  [ [1,2], [3,4], [5,6] ]\n",
    "#Output:  [1, 2, 3, 4, 5, 6]\n",
    "list1 =[ [1,2], [3,4], [5,6]]\n",
    "sum(list1,[])#flatterns originallist of lists with sum()"
   ]
  },
  {
   "cell_type": "markdown",
   "metadata": {},
   "source": [
    "# by using nested for loop"
   ]
  },
  {
   "cell_type": "code",
   "execution_count": 74,
   "metadata": {},
   "outputs": [
    {
     "name": "stdout",
     "output_type": "stream",
     "text": [
      "[1, 2, 3, 4, 5, 6]\n"
     ]
    }
   ],
   "source": [
    "list1 =[ [1,2], [3,4], [5,6]]\n",
    "l1=[]\n",
    "for i in list1:\n",
    "    for j in i:\n",
    "        l1.append(j)\n",
    "print(l1)        "
   ]
  },
  {
   "cell_type": "markdown",
   "metadata": {},
   "source": [
    "# 6. Sum Lists Element-Wise  using map function\n",
    "   "
   ]
  },
  {
   "cell_type": "code",
   "execution_count": null,
   "metadata": {},
   "outputs": [],
   "source": [
    "Syntax :\n",
    "zip(*iterators)\n",
    "Parameters :\n",
    "Python iterables or containers ( list, string etc )\n",
    "Return Value :\n",
    "Returns a single iterator object, having mapped values from all the\n",
    "containers."
   ]
  },
  {
   "cell_type": "markdown",
   "metadata": {},
   "source": [
    "# by using zip function"
   ]
  },
  {
   "cell_type": "code",
   "execution_count": 4,
   "metadata": {},
   "outputs": [
    {
     "data": {
      "text/plain": [
       "[5, 7, 9]"
      ]
     },
     "execution_count": 4,
     "metadata": {},
     "output_type": "execute_result"
    }
   ],
   "source": [
    "#Input: list1=[1, 2, 3]\n",
    "#list2=[4, 5, 6]\n",
    "#Output:   [5,7,9]\n",
    "list1=[1, 2, 3]\n",
    "list2=[4, 5, 6]\n",
    "list(zip(list1,list2))\n",
    "[sum(x) for x in zip(list1,list2)]"
   ]
  },
  {
   "cell_type": "markdown",
   "metadata": {},
   "source": [
    "# by using add function "
   ]
  },
  {
   "cell_type": "code",
   "execution_count": 5,
   "metadata": {},
   "outputs": [
    {
     "data": {
      "text/plain": [
       "[5, 7, 9]"
      ]
     },
     "execution_count": 5,
     "metadata": {},
     "output_type": "execute_result"
    }
   ],
   "source": [
    "from operator import add\n",
    "list1=[1, 2, 3]\n",
    "list2=[4, 5, 6]\n",
    "list(map(add,list1,list2))"
   ]
  },
  {
   "cell_type": "markdown",
   "metadata": {},
   "source": [
    "# 7. Print the first character from each word in the list using list comprehension\n",
    "   "
   ]
  },
  {
   "cell_type": "code",
   "execution_count": 10,
   "metadata": {},
   "outputs": [
    {
     "data": {
      "text/plain": [
       "['t', 'i', 'a', 'l', 'o', 'w']"
      ]
     },
     "execution_count": 10,
     "metadata": {},
     "output_type": "execute_result"
    }
   ],
   "source": [
    "#Input : [\"this\", \"is\", \"a\", \"list\", \"of\", \"words\"]\n",
    "#Output: ['t', 'i', 'a', 'l', 'o', 'w']\n",
    "x=[\"this\", \"is\", \"a\", \"list\", \"of\", \"words\"]\n",
    "l=[word[0]for word in x]\n",
    "\n",
    "l   "
   ]
  },
  {
   "cell_type": "code",
   "execution_count": 12,
   "metadata": {},
   "outputs": [
    {
     "data": {
      "text/plain": [
       "['t']"
      ]
     },
     "execution_count": 12,
     "metadata": {},
     "output_type": "execute_result"
    }
   ],
   "source": [
    "x=[\"this is a word\"]#list with single string\n",
    "l=[word[0]for word in x]\n",
    "l"
   ]
  },
  {
   "cell_type": "code",
   "execution_count": 13,
   "metadata": {},
   "outputs": [
    {
     "data": {
      "text/plain": [
       "['t', 'h', 'i', 's', ' ', 'i', 's', ' ', 'a', ' ', 'w', 'o', 'r', 'd']"
      ]
     },
     "execution_count": 13,
     "metadata": {},
     "output_type": "execute_result"
    }
   ],
   "source": [
    "x=\"this is a word\"#string\n",
    "l=[word[0]for word in x]\n",
    "l"
   ]
  },
  {
   "cell_type": "code",
   "execution_count": null,
   "metadata": {},
   "outputs": [],
   "source": []
  }
 ],
 "metadata": {
  "kernelspec": {
   "display_name": "Python 3",
   "language": "python",
   "name": "python3"
  },
  "language_info": {
   "codemirror_mode": {
    "name": "ipython",
    "version": 3
   },
   "file_extension": ".py",
   "mimetype": "text/x-python",
   "name": "python",
   "nbconvert_exporter": "python",
   "pygments_lexer": "ipython3",
   "version": "3.7.4"
  }
 },
 "nbformat": 4,
 "nbformat_minor": 2
}
