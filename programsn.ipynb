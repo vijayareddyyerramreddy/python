{
 "cells": [
  {
   "cell_type": "code",
   "execution_count": 3,
   "metadata": {},
   "outputs": [
    {
     "name": "stdout",
     "output_type": "stream",
     "text": [
      "even sum: 46\n",
      "odd sum: 20\n"
     ]
    }
   ],
   "source": [
    "#sum of even numbers and  sum of odd numbers in a given range\n",
    "def evn_sum(x):\n",
    "    return sum(x)\n",
    "def odd_sum(y):\n",
    "    return sum(y) \n",
    "list1=[4,6,12,7,8,9,1,2,3,14]\n",
    "l1=[]\n",
    "l2=[]\n",
    "for i in list1:\n",
    "    if i%2==0:\n",
    "        l1.append(i)\n",
    "    else:\n",
    "        l2.append(i)\n",
    "x=evn_sum(l1)\n",
    "y=odd_sum(l2)\n",
    "print(\"even sum:\",x)\n",
    "print(\"odd sum:\",y)"
   ]
  },
  {
   "cell_type": "code",
   "execution_count": 46,
   "metadata": {},
   "outputs": [
    {
     "name": "stdout",
     "output_type": "stream",
     "text": [
      "enter the range:10\n",
      "0 1 1 2 3 5 8 13 21 34 "
     ]
    }
   ],
   "source": [
    "#Fibbonaci series for given range\n",
    "n=int(input(\"enter the range:\"))\n",
    "a,b=0,1\n",
    "print(a,b,end=\" \")\n",
    "while(n-2):\n",
    "    c=a+b\n",
    "    a,b=b,c\n",
    "    print(c,end=\" \")\n",
    "    n=n-1\n",
    "    "
   ]
  },
  {
   "cell_type": "code",
   "execution_count": 45,
   "metadata": {},
   "outputs": [
    {
     "name": "stdout",
     "output_type": "stream",
     "text": [
      "enter the string:10\n",
      "01\n"
     ]
    }
   ],
   "source": [
    "#STRING PALINDROM\n",
    "n=input(\"enter the string:\")\n",
    "x=n[::-1]\n",
    "print(x)"
   ]
  },
  {
   "cell_type": "code",
   "execution_count": 2,
   "metadata": {},
   "outputs": [
    {
     "name": "stdout",
     "output_type": "stream",
     "text": [
      "ente the value:153\n",
      "THE GIVEN NUMBER IS{} AN AMSTRONG NUMBER 153\n",
      "sum value: 153\n",
      "actual value: 153\n"
     ]
    }
   ],
   "source": [
    "#amstong number 12=1**2+2**2=1+4=5,134=1**3+3**3+4**3=1+27+64=92\n",
    "num=int(input(\"ente the value:\"))\n",
    "length=len(str(num))\n",
    "actual=num\n",
    "sum=0\n",
    "while num>0:\n",
    "    digit=num%10\n",
    "    sum=sum+(digit**length)\n",
    "    num=num//10\n",
    "if actual==sum:\n",
    "    print(\"THE GIVEN NUMBER IS{} AN AMSTRONG NUMBER\",format(actual))\n",
    "else:\n",
    "    print(\"THE GIVEN NUMBER IS{} NOT an AMSTRONG NUMBER\",format(actual))\n",
    "print(\"sum value:\",sum)\n",
    "print(\"actual value:\",actual)\n",
    "    "
   ]
  },
  {
   "cell_type": "code",
   "execution_count": 4,
   "metadata": {},
   "outputs": [
    {
     "name": "stdout",
     "output_type": "stream",
     "text": [
      "enter the range:10\n",
      "sum of natural numbers: 385\n"
     ]
    }
   ],
   "source": [
    "#sum of squares of natural numbers\n",
    "import math\n",
    "n=int(input(\"enter the range:\"))\n",
    "sum=0\n",
    "for i in range(1,n+1):\n",
    "    sum=sum+pow(i,2)\n",
    "print(\"sum of natural numbers:\",sum)    "
   ]
  },
  {
   "cell_type": "code",
   "execution_count": null,
   "metadata": {},
   "outputs": [],
   "source": [
    "#pefect numbers in a given range 6=1,2,3 diviors of 6 sum=1+@+3=6\n"
   ]
  },
  {
   "cell_type": "code",
   "execution_count": null,
   "metadata": {},
   "outputs": [],
   "source": [
    "#program to find the count of palindrome in a given range\n"
   ]
  },
  {
   "cell_type": "code",
   "execution_count": 8,
   "metadata": {},
   "outputs": [
    {
     "name": "stdout",
     "output_type": "stream",
     "text": [
      "enter the value:123456\n",
      "6\n"
     ]
    }
   ],
   "source": [
    "#input:123456\n",
    "#output:6\n",
    "num=int(input(\"enter the value:\"))\n",
    "list=[]\n",
    "while num>0:\n",
    "    digit=num%10\n",
    "    list.append(digit)\n",
    "    num=num//10\n",
    "print(max(list))    \n",
    "    \n"
   ]
  },
  {
   "cell_type": "code",
   "execution_count": 18,
   "metadata": {},
   "outputs": [
    {
     "name": "stdout",
     "output_type": "stream",
     "text": [
      "enter the string:mcdjc fddj js\n"
     ]
    },
    {
     "ename": "AttributeError",
     "evalue": "'list' object has no attribute 'len'",
     "output_type": "error",
     "traceback": [
      "\u001b[1;31m---------------------------------------------------------------------------\u001b[0m",
      "\u001b[1;31mAttributeError\u001b[0m                            Traceback (most recent call last)",
      "\u001b[1;32m<ipython-input-18-7d7d20d2793d>\u001b[0m in \u001b[0;36m<module>\u001b[1;34m\u001b[0m\n\u001b[0;32m      8\u001b[0m     \u001b[0my\u001b[0m\u001b[1;33m.\u001b[0m\u001b[0mappend\u001b[0m\u001b[1;33m(\u001b[0m\u001b[0mi\u001b[0m\u001b[1;33m)\u001b[0m\u001b[1;33m\u001b[0m\u001b[1;33m\u001b[0m\u001b[0m\n\u001b[0;32m      9\u001b[0m \u001b[1;32mfor\u001b[0m \u001b[0mi\u001b[0m \u001b[1;32min\u001b[0m \u001b[0my\u001b[0m\u001b[1;33m:\u001b[0m\u001b[1;33m\u001b[0m\u001b[1;33m\u001b[0m\u001b[0m\n\u001b[1;32m---> 10\u001b[1;33m     \u001b[0mz\u001b[0m\u001b[1;33m.\u001b[0m\u001b[0mlen\u001b[0m\u001b[1;33m(\u001b[0m\u001b[0mi\u001b[0m\u001b[1;33m)\u001b[0m\u001b[1;33m\u001b[0m\u001b[1;33m\u001b[0m\u001b[0m\n\u001b[0m\u001b[0;32m     11\u001b[0m \u001b[1;33m\u001b[0m\u001b[0m\n\u001b[0;32m     12\u001b[0m \u001b[0mprint\u001b[0m\u001b[1;33m(\u001b[0m\u001b[0mz\u001b[0m\u001b[1;33m)\u001b[0m\u001b[1;33m\u001b[0m\u001b[1;33m\u001b[0m\u001b[0m\n",
      "\u001b[1;31mAttributeError\u001b[0m: 'list' object has no attribute 'len'"
     ]
    }
   ],
   "source": [
    "#input:Good morning, good time\n",
    "#output:morning(highest lenth word)\n",
    "str=input(\"enter the string:\")\n",
    "y=[]\n",
    "z=[]\n",
    "x=str.split()\n",
    "for i in x:\n",
    "    y.append(i)"
   ]
  },
  {
   "cell_type": "code",
   "execution_count": null,
   "metadata": {},
   "outputs": [],
   "source": []
  }
 ],
 "metadata": {
  "kernelspec": {
   "display_name": "Python 3",
   "language": "python",
   "name": "python3"
  },
  "language_info": {
   "codemirror_mode": {
    "name": "ipython",
    "version": 3
   },
   "file_extension": ".py",
   "mimetype": "text/x-python",
   "name": "python",
   "nbconvert_exporter": "python",
   "pygments_lexer": "ipython3",
   "version": "3.7.4"
  }
 },
 "nbformat": 4,
 "nbformat_minor": 2
}
